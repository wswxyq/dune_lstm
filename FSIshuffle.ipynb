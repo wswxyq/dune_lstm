{
 "cells": [
  {
   "cell_type": "code",
   "execution_count": 1,
   "metadata": {},
   "outputs": [],
   "source": [
    "import numpy as np\n",
    "import pandas as pd\n",
    "from utils.fs_cut import get_fsi_state\n",
    "from utils.fs_cut import get_fsi_bool\n",
    "\n",
    "# import the data with kE>20MeV for protons and neutrons\n",
    "df = pd.read_csv('data/kEcut20MeV/2022-08-21_rnne_NC_250_fGScatter_20MeV_KE_cut.csv.xz')"
   ]
  },
  {
   "cell_type": "code",
   "execution_count": 2,
   "metadata": {},
   "outputs": [],
   "source": [
    "seed=0\n",
    "_indices=np.arange(len(df))\n",
    "np.random.seed(seed)\n",
    "np.random.shuffle(_indices)"
   ]
  },
  {
   "cell_type": "code",
   "execution_count": 3,
   "metadata": {},
   "outputs": [
    {
     "data": {
      "text/plain": [
       "180327"
      ]
     },
     "execution_count": 3,
     "metadata": {},
     "output_type": "execute_result"
    }
   ],
   "source": [
    "len(df)"
   ]
  },
  {
   "cell_type": "code",
   "execution_count": 18,
   "metadata": {},
   "outputs": [],
   "source": [
    "test_size=0.2\n",
    "train_indicies=_indices[:int(len(_indices)*(1-test_size))]\n",
    "test_indicies=_indices[int(len(_indices)*(1-test_size)):]"
   ]
  },
  {
   "cell_type": "code",
   "execution_count": 22,
   "metadata": {},
   "outputs": [],
   "source": [
    "trainset=df.iloc[train_indicies]\n",
    "testset=df.iloc[test_indicies]"
   ]
  },
  {
   "cell_type": "code",
   "execution_count": 23,
   "metadata": {},
   "outputs": [],
   "source": [
    "testset.to_csv('data/2022-08-21_rnne_NC_250_fGScatter_20MeV_KE_01e8_max_trackE_cut_test.csv.xz', index=False, compression='xz')"
   ]
  },
  {
   "cell_type": "code",
   "execution_count": 24,
   "metadata": {},
   "outputs": [
    {
     "data": {
      "text/plain": [
       "85004"
      ]
     },
     "execution_count": 24,
     "metadata": {},
     "output_type": "execute_result"
    }
   ],
   "source": [
    "len(trainset)"
   ]
  },
  {
   "cell_type": "code",
   "execution_count": 25,
   "metadata": {},
   "outputs": [
    {
     "data": {
      "text/plain": [
       "21252"
      ]
     },
     "execution_count": 25,
     "metadata": {},
     "output_type": "execute_result"
    }
   ],
   "source": [
    "len(test_indicies)"
   ]
  },
  {
   "cell_type": "code",
   "execution_count": 26,
   "metadata": {},
   "outputs": [
    {
     "data": {
      "text/html": [
       "<div>\n",
       "<style scoped>\n",
       "    .dataframe tbody tr th:only-of-type {\n",
       "        vertical-align: middle;\n",
       "    }\n",
       "\n",
       "    .dataframe tbody tr th {\n",
       "        vertical-align: top;\n",
       "    }\n",
       "\n",
       "    .dataframe thead th {\n",
       "        text-align: right;\n",
       "    }\n",
       "</style>\n",
       "<table border=\"1\" class=\"dataframe\">\n",
       "  <thead>\n",
       "    <tr style=\"text-align: right;\">\n",
       "      <th></th>\n",
       "      <th>addr.event</th>\n",
       "      <th>addr.run</th>\n",
       "      <th>addr.subRun</th>\n",
       "      <th>anye.hadE</th>\n",
       "      <th>anye.lepE</th>\n",
       "      <th>anye.longestTrackContained</th>\n",
       "      <th>anye.nuE</th>\n",
       "      <th>event.calE</th>\n",
       "      <th>event.charge</th>\n",
       "      <th>event.nHits</th>\n",
       "      <th>...</th>\n",
       "      <th>particle.dir.x</th>\n",
       "      <th>particle.dir.y</th>\n",
       "      <th>particle.dir.z</th>\n",
       "      <th>particle.energy</th>\n",
       "      <th>particle.is_shower</th>\n",
       "      <th>particle.length</th>\n",
       "      <th>particle.nHit</th>\n",
       "      <th>particle.start.x</th>\n",
       "      <th>particle.start.y</th>\n",
       "      <th>particle.start.z</th>\n",
       "    </tr>\n",
       "  </thead>\n",
       "  <tbody>\n",
       "    <tr>\n",
       "      <th>0</th>\n",
       "      <td>5</td>\n",
       "      <td>20000000.0</td>\n",
       "      <td>0</td>\n",
       "      <td>-0.438477</td>\n",
       "      <td>0.344072</td>\n",
       "      <td>1</td>\n",
       "      <td>-0.094405</td>\n",
       "      <td>29512100.0</td>\n",
       "      <td>146557.0</td>\n",
       "      <td>489</td>\n",
       "      <td>...</td>\n",
       "      <td>0.433606,-0.299923,-0.745334,-0.100157,0.860592</td>\n",
       "      <td>0.412988,0.266261,0.467823,-0.380913,0.0559675</td>\n",
       "      <td>0.800891,0.916052,0.474994,0.91917,0.50621</td>\n",
       "      <td>1,1,1,1,1</td>\n",
       "      <td>0,0,0,0,0</td>\n",
       "      <td>100.43,25.8799,26.5932,11.0404,15.4177</td>\n",
       "      <td>464,181,85,95,59</td>\n",
       "      <td>51.9666,51.4691,50.6269,44.7562,66.9639</td>\n",
       "      <td>156.068,155.983,156.273,164.204,158.957</td>\n",
       "      <td>1038.71,1038,1038.78,1062.48,1051.15</td>\n",
       "    </tr>\n",
       "    <tr>\n",
       "      <th>1</th>\n",
       "      <td>6</td>\n",
       "      <td>20000000.0</td>\n",
       "      <td>0</td>\n",
       "      <td>-0.301516</td>\n",
       "      <td>0.328487</td>\n",
       "      <td>1</td>\n",
       "      <td>0.026971</td>\n",
       "      <td>26756600.0</td>\n",
       "      <td>132873.0</td>\n",
       "      <td>462</td>\n",
       "      <td>...</td>\n",
       "      <td>0.320173,0.122375,-0.013626,0.836399</td>\n",
       "      <td>0.34598,0.60662,-0.987097,-0.533129</td>\n",
       "      <td>0.881922,0.785517,-0.159545,-0.12732</td>\n",
       "      <td>1,1,1,1</td>\n",
       "      <td>0,0,0,0</td>\n",
       "      <td>93.3543,61.5381,26.9224,21.3653</td>\n",
       "      <td>488,330,97,55</td>\n",
       "      <td>149.719,150.829,147.524,206.582</td>\n",
       "      <td>44.5685,45.8426,-10.5539,128.474</td>\n",
       "      <td>301.744,306.293,288.325,431.556</td>\n",
       "    </tr>\n",
       "    <tr>\n",
       "      <th>2</th>\n",
       "      <td>12</td>\n",
       "      <td>20000000.0</td>\n",
       "      <td>0</td>\n",
       "      <td>-0.194787</td>\n",
       "      <td>0.176983</td>\n",
       "      <td>1</td>\n",
       "      <td>-0.017804</td>\n",
       "      <td>12231200.0</td>\n",
       "      <td>60740.4</td>\n",
       "      <td>122</td>\n",
       "      <td>...</td>\n",
       "      <td>-0.161025,-0.273467,-0.869092</td>\n",
       "      <td>-0.380543,0.935742,-0.492786</td>\n",
       "      <td>0.910636,-0.222717,-0.0429107</td>\n",
       "      <td>1,1,0</td>\n",
       "      <td>0,0,1</td>\n",
       "      <td>15.7588,20.4948,16.9874</td>\n",
       "      <td>99,82,22</td>\n",
       "      <td>-189.079,-182.94,-190.192</td>\n",
       "      <td>121.483,114.657,134.064</td>\n",
       "      <td>793.085,771.819,767.221</td>\n",
       "    </tr>\n",
       "    <tr>\n",
       "      <th>3</th>\n",
       "      <td>37</td>\n",
       "      <td>20000000.0</td>\n",
       "      <td>0</td>\n",
       "      <td>-0.094064</td>\n",
       "      <td>0.207412</td>\n",
       "      <td>1</td>\n",
       "      <td>0.113348</td>\n",
       "      <td>4450590.0</td>\n",
       "      <td>22101.6</td>\n",
       "      <td>84</td>\n",
       "      <td>...</td>\n",
       "      <td>0.264789</td>\n",
       "      <td>0.421623</td>\n",
       "      <td>0.867249</td>\n",
       "      <td>1</td>\n",
       "      <td>0</td>\n",
       "      <td>36.2258</td>\n",
       "      <td>169</td>\n",
       "      <td>-362.522</td>\n",
       "      <td>97.6322</td>\n",
       "      <td>1143.62</td>\n",
       "    </tr>\n",
       "    <tr>\n",
       "      <th>4</th>\n",
       "      <td>42</td>\n",
       "      <td>20000000.0</td>\n",
       "      <td>0</td>\n",
       "      <td>-0.076877</td>\n",
       "      <td>0.177945</td>\n",
       "      <td>1</td>\n",
       "      <td>0.101069</td>\n",
       "      <td>6240410.0</td>\n",
       "      <td>30989.9</td>\n",
       "      <td>85</td>\n",
       "      <td>...</td>\n",
       "      <td>-0.384293</td>\n",
       "      <td>-0.368317</td>\n",
       "      <td>0.846559</td>\n",
       "      <td>1</td>\n",
       "      <td>0</td>\n",
       "      <td>21.0111</td>\n",
       "      <td>110</td>\n",
       "      <td>221.914</td>\n",
       "      <td>-329.633</td>\n",
       "      <td>456.139</td>\n",
       "    </tr>\n",
       "  </tbody>\n",
       "</table>\n",
       "<p>5 rows × 32 columns</p>\n",
       "</div>"
      ],
      "text/plain": [
       "   addr.event    addr.run  addr.subRun  anye.hadE  anye.lepE  \\\n",
       "0           5  20000000.0            0  -0.438477   0.344072   \n",
       "1           6  20000000.0            0  -0.301516   0.328487   \n",
       "2          12  20000000.0            0  -0.194787   0.176983   \n",
       "3          37  20000000.0            0  -0.094064   0.207412   \n",
       "4          42  20000000.0            0  -0.076877   0.177945   \n",
       "\n",
       "   anye.longestTrackContained  anye.nuE  event.calE  event.charge  \\\n",
       "0                           1 -0.094405  29512100.0      146557.0   \n",
       "1                           1  0.026971  26756600.0      132873.0   \n",
       "2                           1 -0.017804  12231200.0       60740.4   \n",
       "3                           1  0.113348   4450590.0       22101.6   \n",
       "4                           1  0.101069   6240410.0       30989.9   \n",
       "\n",
       "   event.nHits  ...                                   particle.dir.x  \\\n",
       "0          489  ...  0.433606,-0.299923,-0.745334,-0.100157,0.860592   \n",
       "1          462  ...             0.320173,0.122375,-0.013626,0.836399   \n",
       "2          122  ...                    -0.161025,-0.273467,-0.869092   \n",
       "3           84  ...                                         0.264789   \n",
       "4           85  ...                                        -0.384293   \n",
       "\n",
       "                                   particle.dir.y  \\\n",
       "0  0.412988,0.266261,0.467823,-0.380913,0.0559675   \n",
       "1             0.34598,0.60662,-0.987097,-0.533129   \n",
       "2                    -0.380543,0.935742,-0.492786   \n",
       "3                                        0.421623   \n",
       "4                                       -0.368317   \n",
       "\n",
       "                               particle.dir.z  particle.energy  \\\n",
       "0  0.800891,0.916052,0.474994,0.91917,0.50621        1,1,1,1,1   \n",
       "1        0.881922,0.785517,-0.159545,-0.12732          1,1,1,1   \n",
       "2               0.910636,-0.222717,-0.0429107            1,1,0   \n",
       "3                                    0.867249                1   \n",
       "4                                    0.846559                1   \n",
       "\n",
       "   particle.is_shower                         particle.length  \\\n",
       "0           0,0,0,0,0  100.43,25.8799,26.5932,11.0404,15.4177   \n",
       "1             0,0,0,0         93.3543,61.5381,26.9224,21.3653   \n",
       "2               0,0,1                 15.7588,20.4948,16.9874   \n",
       "3                   0                                 36.2258   \n",
       "4                   0                                 21.0111   \n",
       "\n",
       "      particle.nHit                         particle.start.x  \\\n",
       "0  464,181,85,95,59  51.9666,51.4691,50.6269,44.7562,66.9639   \n",
       "1     488,330,97,55          149.719,150.829,147.524,206.582   \n",
       "2          99,82,22                -189.079,-182.94,-190.192   \n",
       "3               169                                 -362.522   \n",
       "4               110                                  221.914   \n",
       "\n",
       "                          particle.start.y  \\\n",
       "0  156.068,155.983,156.273,164.204,158.957   \n",
       "1         44.5685,45.8426,-10.5539,128.474   \n",
       "2                  121.483,114.657,134.064   \n",
       "3                                  97.6322   \n",
       "4                                 -329.633   \n",
       "\n",
       "                       particle.start.z  \n",
       "0  1038.71,1038,1038.78,1062.48,1051.15  \n",
       "1       301.744,306.293,288.325,431.556  \n",
       "2               793.085,771.819,767.221  \n",
       "3                               1143.62  \n",
       "4                               456.139  \n",
       "\n",
       "[5 rows x 32 columns]"
      ]
     },
     "execution_count": 26,
     "metadata": {},
     "output_type": "execute_result"
    }
   ],
   "source": [
    "df.head()"
   ]
  }
 ],
 "metadata": {
  "kernelspec": {
   "display_name": "Python 3.9.13 64-bit",
   "language": "python",
   "name": "python3"
  },
  "language_info": {
   "codemirror_mode": {
    "name": "ipython",
    "version": 3
   },
   "file_extension": ".py",
   "mimetype": "text/x-python",
   "name": "python",
   "nbconvert_exporter": "python",
   "pygments_lexer": "ipython3",
   "version": "3.10.8"
  },
  "orig_nbformat": 4,
  "vscode": {
   "interpreter": {
    "hash": "b0fa6594d8f4cbf19f97940f81e996739fb7646882a419484c72d19e05852a7e"
   }
  }
 },
 "nbformat": 4,
 "nbformat_minor": 2
}

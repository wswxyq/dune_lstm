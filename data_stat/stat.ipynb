{
 "cells": [
  {
   "cell_type": "code",
   "execution_count": 1,
   "metadata": {},
   "outputs": [],
   "source": [
    "import pandas as pd\n",
    "df = pd.read_csv('../data_gen/NC/NCsample_without_MVA_selection.csv.xz')"
   ]
  },
  {
   "cell_type": "code",
   "execution_count": 2,
   "metadata": {},
   "outputs": [
    {
     "data": {
      "text/plain": [
       "0         14\n",
       "1         14\n",
       "2         14\n",
       "3         14\n",
       "4         14\n",
       "          ..\n",
       "180982    14\n",
       "180983    14\n",
       "180984    14\n",
       "180985    14\n",
       "180986    14\n",
       "Name: mc.pdg, Length: 180987, dtype: int64"
      ]
     },
     "execution_count": 2,
     "metadata": {},
     "output_type": "execute_result"
    }
   ],
   "source": [
    "df['mc.pdg']"
   ]
  },
  {
   "cell_type": "code",
   "execution_count": 3,
   "metadata": {},
   "outputs": [
    {
     "data": {
      "text/plain": [
       "Index(['addr.event', 'addr.run', 'addr.subRun', 'anye.hadE', 'anye.lepE',\n",
       "       'anye.longestTrackContained', 'anye.nuE', 'event.calE', 'event.charge',\n",
       "       'event.nHits', 'mc.hadE', 'mc.isCC', 'mc.lepE', 'mc.lepPdg', 'mc.mode',\n",
       "       'mc.nuE', 'mc.pdg', 'mc.vtxContain', 'particle.calE', 'particle.charge',\n",
       "       'particle.dir.x', 'particle.dir.y', 'particle.dir.z', 'particle.energy',\n",
       "       'particle.is_shower', 'particle.length', 'particle.nHit',\n",
       "       'particle.start.x', 'particle.start.y', 'particle.start.z'],\n",
       "      dtype='object')"
      ]
     },
     "execution_count": 3,
     "metadata": {},
     "output_type": "execute_result"
    }
   ],
   "source": [
    "df.columns"
   ]
  },
  {
   "cell_type": "code",
   "execution_count": 4,
   "metadata": {},
   "outputs": [
    {
     "data": {
      "text/plain": [
       "{0, 1, 2, 3, 5}"
      ]
     },
     "execution_count": 4,
     "metadata": {},
     "output_type": "execute_result"
    }
   ],
   "source": [
    "set(df['mc.mode'])"
   ]
  },
  {
   "cell_type": "code",
   "execution_count": 26,
   "metadata": {},
   "outputs": [
    {
     "data": {
      "text/html": [
       "<div>\n",
       "<style scoped>\n",
       "    .dataframe tbody tr th:only-of-type {\n",
       "        vertical-align: middle;\n",
       "    }\n",
       "\n",
       "    .dataframe tbody tr th {\n",
       "        vertical-align: top;\n",
       "    }\n",
       "\n",
       "    .dataframe thead th {\n",
       "        text-align: right;\n",
       "    }\n",
       "</style>\n",
       "<table border=\"1\" class=\"dataframe\">\n",
       "  <thead>\n",
       "    <tr style=\"text-align: right;\">\n",
       "      <th></th>\n",
       "      <th>addr.event</th>\n",
       "      <th>addr.run</th>\n",
       "      <th>addr.subRun</th>\n",
       "      <th>anye.hadE</th>\n",
       "      <th>anye.lepE</th>\n",
       "      <th>anye.longestTrackContained</th>\n",
       "      <th>anye.nuE</th>\n",
       "      <th>event.calE</th>\n",
       "      <th>event.charge</th>\n",
       "      <th>event.nHits</th>\n",
       "      <th>...</th>\n",
       "      <th>particle.dir.x</th>\n",
       "      <th>particle.dir.y</th>\n",
       "      <th>particle.dir.z</th>\n",
       "      <th>particle.energy</th>\n",
       "      <th>particle.is_shower</th>\n",
       "      <th>particle.length</th>\n",
       "      <th>particle.nHit</th>\n",
       "      <th>particle.start.x</th>\n",
       "      <th>particle.start.y</th>\n",
       "      <th>particle.start.z</th>\n",
       "    </tr>\n",
       "  </thead>\n",
       "  <tbody>\n",
       "    <tr>\n",
       "      <th>0</th>\n",
       "      <td>1</td>\n",
       "      <td>20000000.0</td>\n",
       "      <td>0</td>\n",
       "      <td>-0.266728</td>\n",
       "      <td>0.209084</td>\n",
       "      <td>1</td>\n",
       "      <td>-0.057644</td>\n",
       "      <td>8632290.0</td>\n",
       "      <td>42868.00</td>\n",
       "      <td>74</td>\n",
       "      <td>...</td>\n",
       "      <td>-0.206364,0.721771</td>\n",
       "      <td>-0.67021,-0.0439453</td>\n",
       "      <td>0.712905,-0.690735</td>\n",
       "      <td>1,1</td>\n",
       "      <td>0,0</td>\n",
       "      <td>37.0621,3.57038</td>\n",
       "      <td>160,23</td>\n",
       "      <td>347.353,348.316</td>\n",
       "      <td>451.718,450.941</td>\n",
       "      <td>605.259,605.453</td>\n",
       "    </tr>\n",
       "    <tr>\n",
       "      <th>1</th>\n",
       "      <td>2</td>\n",
       "      <td>20000000.0</td>\n",
       "      <td>0</td>\n",
       "      <td>0.005159</td>\n",
       "      <td>0.155588</td>\n",
       "      <td>1</td>\n",
       "      <td>0.160747</td>\n",
       "      <td>1920330.0</td>\n",
       "      <td>9536.35</td>\n",
       "      <td>15</td>\n",
       "      <td>...</td>\n",
       "      <td>-0.843947</td>\n",
       "      <td>-0.196933</td>\n",
       "      <td>0.49897</td>\n",
       "      <td>1</td>\n",
       "      <td>0</td>\n",
       "      <td>8.52458</td>\n",
       "      <td>31</td>\n",
       "      <td>362.576</td>\n",
       "      <td>389.245</td>\n",
       "      <td>274.605</td>\n",
       "    </tr>\n",
       "    <tr>\n",
       "      <th>2</th>\n",
       "      <td>8</td>\n",
       "      <td>20000000.0</td>\n",
       "      <td>0</td>\n",
       "      <td>-0.058455</td>\n",
       "      <td>0.193484</td>\n",
       "      <td>1</td>\n",
       "      <td>0.135029</td>\n",
       "      <td>35323200.0</td>\n",
       "      <td>175415.00</td>\n",
       "      <td>694</td>\n",
       "      <td>...</td>\n",
       "      <td>0.512307,0.237939,0.775393,0.64938</td>\n",
       "      <td>0.30185,-0.59452,-0.382875,-0.0775753</td>\n",
       "      <td>0.804008,0.76807,0.502168,0.756497</td>\n",
       "      <td>0,0,1,1</td>\n",
       "      <td>1,1,0,0</td>\n",
       "      <td>119.89,65.5097,29.1599,19.4163</td>\n",
       "      <td>1472,142,131,81</td>\n",
       "      <td>-294.99,-295.501,-275.371,-296.833</td>\n",
       "      <td>-469.887,-471.959,-457.852,-470.095</td>\n",
       "      <td>155.371,151.483,177.401,148.298</td>\n",
       "    </tr>\n",
       "    <tr>\n",
       "      <th>3</th>\n",
       "      <td>9</td>\n",
       "      <td>20000000.0</td>\n",
       "      <td>0</td>\n",
       "      <td>-0.209636</td>\n",
       "      <td>0.222730</td>\n",
       "      <td>1</td>\n",
       "      <td>0.013094</td>\n",
       "      <td>17524800.0</td>\n",
       "      <td>87028.20</td>\n",
       "      <td>219</td>\n",
       "      <td>...</td>\n",
       "      <td>0.574553,-0.269545,0.518934,-0.942239,0.878745</td>\n",
       "      <td>0.431491,-0.880795,-0.00726443,0.117004,-0.198702</td>\n",
       "      <td>0.695488,0.389289,-0.854783,0.313841,-0.433963</td>\n",
       "      <td>1,0,0,1,1</td>\n",
       "      <td>0,1,1,0,0</td>\n",
       "      <td>43.808,42.6091,24.0522,26.2039,6.14377</td>\n",
       "      <td>195,87,88,67,16</td>\n",
       "      <td>-244.695,-245.681,-245.92,-246.171,-244.599</td>\n",
       "      <td>-272.993,-273.996,-273.59,-273.428,-275.113</td>\n",
       "      <td>1282.24,1282.3,1280.86,1281.77,1281.28</td>\n",
       "    </tr>\n",
       "    <tr>\n",
       "      <th>4</th>\n",
       "      <td>16</td>\n",
       "      <td>20000000.0</td>\n",
       "      <td>0</td>\n",
       "      <td>0.000000</td>\n",
       "      <td>0.000000</td>\n",
       "      <td>-1</td>\n",
       "      <td>0.000000</td>\n",
       "      <td>8385420.0</td>\n",
       "      <td>41642.00</td>\n",
       "      <td>157</td>\n",
       "      <td>...</td>\n",
       "      <td>-0.77491,-0.409709</td>\n",
       "      <td>0.461067,0.323059</td>\n",
       "      <td>-0.432357,-0.853095</td>\n",
       "      <td>0,0</td>\n",
       "      <td>1,1</td>\n",
       "      <td>37.7364,10.9044</td>\n",
       "      <td>191,50</td>\n",
       "      <td>70.3523,76.5</td>\n",
       "      <td>-261.997,-263.596</td>\n",
       "      <td>859.187,864.935</td>\n",
       "    </tr>\n",
       "  </tbody>\n",
       "</table>\n",
       "<p>5 rows × 30 columns</p>\n",
       "</div>"
      ],
      "text/plain": [
       "   addr.event    addr.run  addr.subRun  anye.hadE  anye.lepE  \\\n",
       "0           1  20000000.0            0  -0.266728   0.209084   \n",
       "1           2  20000000.0            0   0.005159   0.155588   \n",
       "2           8  20000000.0            0  -0.058455   0.193484   \n",
       "3           9  20000000.0            0  -0.209636   0.222730   \n",
       "4          16  20000000.0            0   0.000000   0.000000   \n",
       "\n",
       "   anye.longestTrackContained  anye.nuE  event.calE  event.charge  \\\n",
       "0                           1 -0.057644   8632290.0      42868.00   \n",
       "1                           1  0.160747   1920330.0       9536.35   \n",
       "2                           1  0.135029  35323200.0     175415.00   \n",
       "3                           1  0.013094  17524800.0      87028.20   \n",
       "4                          -1  0.000000   8385420.0      41642.00   \n",
       "\n",
       "   event.nHits  ...                                  particle.dir.x  \\\n",
       "0           74  ...                              -0.206364,0.721771   \n",
       "1           15  ...                                       -0.843947   \n",
       "2          694  ...              0.512307,0.237939,0.775393,0.64938   \n",
       "3          219  ...  0.574553,-0.269545,0.518934,-0.942239,0.878745   \n",
       "4          157  ...                              -0.77491,-0.409709   \n",
       "\n",
       "                                      particle.dir.y  \\\n",
       "0                                -0.67021,-0.0439453   \n",
       "1                                          -0.196933   \n",
       "2              0.30185,-0.59452,-0.382875,-0.0775753   \n",
       "3  0.431491,-0.880795,-0.00726443,0.117004,-0.198702   \n",
       "4                                  0.461067,0.323059   \n",
       "\n",
       "                                   particle.dir.z  particle.energy  \\\n",
       "0                              0.712905,-0.690735              1,1   \n",
       "1                                         0.49897                1   \n",
       "2              0.804008,0.76807,0.502168,0.756497          0,0,1,1   \n",
       "3  0.695488,0.389289,-0.854783,0.313841,-0.433963        1,0,0,1,1   \n",
       "4                             -0.432357,-0.853095              0,0   \n",
       "\n",
       "   particle.is_shower                         particle.length  \\\n",
       "0                 0,0                         37.0621,3.57038   \n",
       "1                   0                                 8.52458   \n",
       "2             1,1,0,0          119.89,65.5097,29.1599,19.4163   \n",
       "3           0,1,1,0,0  43.808,42.6091,24.0522,26.2039,6.14377   \n",
       "4                 1,1                         37.7364,10.9044   \n",
       "\n",
       "     particle.nHit                             particle.start.x  \\\n",
       "0           160,23                              347.353,348.316   \n",
       "1               31                                      362.576   \n",
       "2  1472,142,131,81           -294.99,-295.501,-275.371,-296.833   \n",
       "3  195,87,88,67,16  -244.695,-245.681,-245.92,-246.171,-244.599   \n",
       "4           191,50                                 70.3523,76.5   \n",
       "\n",
       "                              particle.start.y  \\\n",
       "0                              451.718,450.941   \n",
       "1                                      389.245   \n",
       "2          -469.887,-471.959,-457.852,-470.095   \n",
       "3  -272.993,-273.996,-273.59,-273.428,-275.113   \n",
       "4                            -261.997,-263.596   \n",
       "\n",
       "                         particle.start.z  \n",
       "0                         605.259,605.453  \n",
       "1                                 274.605  \n",
       "2         155.371,151.483,177.401,148.298  \n",
       "3  1282.24,1282.3,1280.86,1281.77,1281.28  \n",
       "4                         859.187,864.935  \n",
       "\n",
       "[5 rows x 30 columns]"
      ]
     },
     "execution_count": 26,
     "metadata": {},
     "output_type": "execute_result"
    }
   ],
   "source": [
    "df.head()"
   ]
  },
  {
   "cell_type": "code",
   "execution_count": 5,
   "metadata": {},
   "outputs": [
    {
     "data": {
      "text/plain": [
       "180987"
      ]
     },
     "execution_count": 5,
     "metadata": {},
     "output_type": "execute_result"
    }
   ],
   "source": [
    "nuE=df['mc.nuE']\n",
    "nuE.size"
   ]
  },
  {
   "cell_type": "code",
   "execution_count": 6,
   "metadata": {},
   "outputs": [
    {
     "data": {
      "image/png": "[encoded data removed]",
      "text/plain": [
       "<Figure size 432x288 with 1 Axes>"
      ]
     },
     "metadata": {
      "needs_background": "light"
     },
     "output_type": "display_data"
    }
   ],
   "source": [
    "import numpy as np\n",
    "import matplotlib.pyplot as plt\n",
    "plt.hist(nuE, bins=20)\n",
    "plt.xlabel('nuE')\n",
    "plt.ylabel('counts')\n",
    "plt.show()"
   ]
  },
  {
   "cell_type": "code",
   "execution_count": 2,
   "metadata": {},
   "outputs": [],
   "source": [
    "lowEnergyCut=df[df['mc.nuE']<=1.]\n",
    "lowEnergyCut.to_csv('LowEnergyCut_NC.csv.xz', index=False, compression='xz')"
   ]
  },
  {
   "cell_type": "code",
   "execution_count": 4,
   "metadata": {},
   "outputs": [],
   "source": [
    "lowEnergyCut = pd.read_csv('LowEnergyCut_NC.csv.xz')"
   ]
  },
  {
   "cell_type": "code",
   "execution_count": 12,
   "metadata": {},
   "outputs": [
    {
     "data": {
      "text/plain": [
       "Index(['addr.event', 'addr.run', 'addr.subRun', 'anye.hadE', 'anye.lepE',\n",
       "       'anye.longestTrackContained', 'anye.nuE', 'event.calE', 'event.charge',\n",
       "       'event.nHits', 'mc.hadE', 'mc.isCC', 'mc.lepE', 'mc.lepPdg', 'mc.mode',\n",
       "       'mc.nuE', 'mc.pdg', 'mc.vtxContain', 'particle.calE', 'particle.charge',\n",
       "       'particle.dir.x', 'particle.dir.y', 'particle.dir.z', 'particle.energy',\n",
       "       'particle.is_shower', 'particle.length', 'particle.nHit',\n",
       "       'particle.start.x', 'particle.start.y', 'particle.start.z'],\n",
       "      dtype='object')"
      ]
     },
     "execution_count": 12,
     "metadata": {},
     "output_type": "execute_result"
    }
   ],
   "source": [
    "lowEnergyCut.columns"
   ]
  },
  {
   "cell_type": "code",
   "execution_count": 12,
   "metadata": {},
   "outputs": [
    {
     "data": {
      "text/html": [
       "<div>\n",
       "<style scoped>\n",
       "    .dataframe tbody tr th:only-of-type {\n",
       "        vertical-align: middle;\n",
       "    }\n",
       "\n",
       "    .dataframe tbody tr th {\n",
       "        vertical-align: top;\n",
       "    }\n",
       "\n",
       "    .dataframe thead th {\n",
       "        text-align: right;\n",
       "    }\n",
       "</style>\n",
       "<table border=\"1\" class=\"dataframe\">\n",
       "  <thead>\n",
       "    <tr style=\"text-align: right;\">\n",
       "      <th></th>\n",
       "      <th>addr.event</th>\n",
       "      <th>addr.run</th>\n",
       "      <th>addr.subRun</th>\n",
       "      <th>anye.hadE</th>\n",
       "      <th>anye.lepE</th>\n",
       "      <th>anye.longestTrackContained</th>\n",
       "      <th>anye.nuE</th>\n",
       "      <th>event.calE</th>\n",
       "      <th>event.charge</th>\n",
       "      <th>event.nHits</th>\n",
       "      <th>...</th>\n",
       "      <th>particle.dir.x</th>\n",
       "      <th>particle.dir.y</th>\n",
       "      <th>particle.dir.z</th>\n",
       "      <th>particle.energy</th>\n",
       "      <th>particle.is_shower</th>\n",
       "      <th>particle.length</th>\n",
       "      <th>particle.nHit</th>\n",
       "      <th>particle.start.x</th>\n",
       "      <th>particle.start.y</th>\n",
       "      <th>particle.start.z</th>\n",
       "    </tr>\n",
       "  </thead>\n",
       "  <tbody>\n",
       "    <tr>\n",
       "      <th>0</th>\n",
       "      <td>1</td>\n",
       "      <td>20000000.0</td>\n",
       "      <td>0</td>\n",
       "      <td>-0.266728</td>\n",
       "      <td>0.209084</td>\n",
       "      <td>1</td>\n",
       "      <td>-0.057644</td>\n",
       "      <td>8632290.0</td>\n",
       "      <td>42868.00</td>\n",
       "      <td>74</td>\n",
       "      <td>...</td>\n",
       "      <td>-0.206364,0.721771</td>\n",
       "      <td>-0.67021,-0.0439453</td>\n",
       "      <td>0.712905,-0.690735</td>\n",
       "      <td>1,1</td>\n",
       "      <td>0,0</td>\n",
       "      <td>37.0621,3.57038</td>\n",
       "      <td>160,23</td>\n",
       "      <td>347.353,348.316</td>\n",
       "      <td>451.718,450.941</td>\n",
       "      <td>605.259,605.453</td>\n",
       "    </tr>\n",
       "    <tr>\n",
       "      <th>1</th>\n",
       "      <td>2</td>\n",
       "      <td>20000000.0</td>\n",
       "      <td>0</td>\n",
       "      <td>0.005159</td>\n",
       "      <td>0.155588</td>\n",
       "      <td>1</td>\n",
       "      <td>0.160747</td>\n",
       "      <td>1920330.0</td>\n",
       "      <td>9536.35</td>\n",
       "      <td>15</td>\n",
       "      <td>...</td>\n",
       "      <td>-0.843947</td>\n",
       "      <td>-0.196933</td>\n",
       "      <td>0.49897</td>\n",
       "      <td>1</td>\n",
       "      <td>0</td>\n",
       "      <td>8.52458</td>\n",
       "      <td>31</td>\n",
       "      <td>362.576</td>\n",
       "      <td>389.245</td>\n",
       "      <td>274.605</td>\n",
       "    </tr>\n",
       "    <tr>\n",
       "      <th>2</th>\n",
       "      <td>8</td>\n",
       "      <td>20000000.0</td>\n",
       "      <td>0</td>\n",
       "      <td>-0.058455</td>\n",
       "      <td>0.193484</td>\n",
       "      <td>1</td>\n",
       "      <td>0.135029</td>\n",
       "      <td>35323200.0</td>\n",
       "      <td>175415.00</td>\n",
       "      <td>694</td>\n",
       "      <td>...</td>\n",
       "      <td>0.512307,0.237939,0.775393,0.64938</td>\n",
       "      <td>0.30185,-0.59452,-0.382875,-0.0775753</td>\n",
       "      <td>0.804008,0.76807,0.502168,0.756497</td>\n",
       "      <td>0,0,1,1</td>\n",
       "      <td>1,1,0,0</td>\n",
       "      <td>119.89,65.5097,29.1599,19.4163</td>\n",
       "      <td>1472,142,131,81</td>\n",
       "      <td>-294.99,-295.501,-275.371,-296.833</td>\n",
       "      <td>-469.887,-471.959,-457.852,-470.095</td>\n",
       "      <td>155.371,151.483,177.401,148.298</td>\n",
       "    </tr>\n",
       "    <tr>\n",
       "      <th>3</th>\n",
       "      <td>9</td>\n",
       "      <td>20000000.0</td>\n",
       "      <td>0</td>\n",
       "      <td>-0.209636</td>\n",
       "      <td>0.222730</td>\n",
       "      <td>1</td>\n",
       "      <td>0.013094</td>\n",
       "      <td>17524800.0</td>\n",
       "      <td>87028.20</td>\n",
       "      <td>219</td>\n",
       "      <td>...</td>\n",
       "      <td>0.574553,-0.269545,0.518934,-0.942239,0.878745</td>\n",
       "      <td>0.431491,-0.880795,-0.00726443,0.117004,-0.198702</td>\n",
       "      <td>0.695488,0.389289,-0.854783,0.313841,-0.433963</td>\n",
       "      <td>1,0,0,1,1</td>\n",
       "      <td>0,1,1,0,0</td>\n",
       "      <td>43.808,42.6091,24.0522,26.2039,6.14377</td>\n",
       "      <td>195,87,88,67,16</td>\n",
       "      <td>-244.695,-245.681,-245.92,-246.171,-244.599</td>\n",
       "      <td>-272.993,-273.996,-273.59,-273.428,-275.113</td>\n",
       "      <td>1282.24,1282.3,1280.86,1281.77,1281.28</td>\n",
       "    </tr>\n",
       "    <tr>\n",
       "      <th>4</th>\n",
       "      <td>16</td>\n",
       "      <td>20000000.0</td>\n",
       "      <td>0</td>\n",
       "      <td>0.000000</td>\n",
       "      <td>0.000000</td>\n",
       "      <td>-1</td>\n",
       "      <td>0.000000</td>\n",
       "      <td>8385420.0</td>\n",
       "      <td>41642.00</td>\n",
       "      <td>157</td>\n",
       "      <td>...</td>\n",
       "      <td>-0.77491,-0.409709</td>\n",
       "      <td>0.461067,0.323059</td>\n",
       "      <td>-0.432357,-0.853095</td>\n",
       "      <td>0,0</td>\n",
       "      <td>1,1</td>\n",
       "      <td>37.7364,10.9044</td>\n",
       "      <td>191,50</td>\n",
       "      <td>70.3523,76.5</td>\n",
       "      <td>-261.997,-263.596</td>\n",
       "      <td>859.187,864.935</td>\n",
       "    </tr>\n",
       "  </tbody>\n",
       "</table>\n",
       "<p>5 rows × 30 columns</p>\n",
       "</div>"
      ],
      "text/plain": [
       "   addr.event    addr.run  addr.subRun  anye.hadE  anye.lepE  \\\n",
       "0           1  20000000.0            0  -0.266728   0.209084   \n",
       "1           2  20000000.0            0   0.005159   0.155588   \n",
       "2           8  20000000.0            0  -0.058455   0.193484   \n",
       "3           9  20000000.0            0  -0.209636   0.222730   \n",
       "4          16  20000000.0            0   0.000000   0.000000   \n",
       "\n",
       "   anye.longestTrackContained  anye.nuE  event.calE  event.charge  \\\n",
       "0                           1 -0.057644   8632290.0      42868.00   \n",
       "1                           1  0.160747   1920330.0       9536.35   \n",
       "2                           1  0.135029  35323200.0     175415.00   \n",
       "3                           1  0.013094  17524800.0      87028.20   \n",
       "4                          -1  0.000000   8385420.0      41642.00   \n",
       "\n",
       "   event.nHits  ...                                  particle.dir.x  \\\n",
       "0           74  ...                              -0.206364,0.721771   \n",
       "1           15  ...                                       -0.843947   \n",
       "2          694  ...              0.512307,0.237939,0.775393,0.64938   \n",
       "3          219  ...  0.574553,-0.269545,0.518934,-0.942239,0.878745   \n",
       "4          157  ...                              -0.77491,-0.409709   \n",
       "\n",
       "                                      particle.dir.y  \\\n",
       "0                                -0.67021,-0.0439453   \n",
       "1                                          -0.196933   \n",
       "2              0.30185,-0.59452,-0.382875,-0.0775753   \n",
       "3  0.431491,-0.880795,-0.00726443,0.117004,-0.198702   \n",
       "4                                  0.461067,0.323059   \n",
       "\n",
       "                                   particle.dir.z  particle.energy  \\\n",
       "0                              0.712905,-0.690735              1,1   \n",
       "1                                         0.49897                1   \n",
       "2              0.804008,0.76807,0.502168,0.756497          0,0,1,1   \n",
       "3  0.695488,0.389289,-0.854783,0.313841,-0.433963        1,0,0,1,1   \n",
       "4                             -0.432357,-0.853095              0,0   \n",
       "\n",
       "   particle.is_shower                         particle.length  \\\n",
       "0                 0,0                         37.0621,3.57038   \n",
       "1                   0                                 8.52458   \n",
       "2             1,1,0,0          119.89,65.5097,29.1599,19.4163   \n",
       "3           0,1,1,0,0  43.808,42.6091,24.0522,26.2039,6.14377   \n",
       "4                 1,1                         37.7364,10.9044   \n",
       "\n",
       "     particle.nHit                             particle.start.x  \\\n",
       "0           160,23                              347.353,348.316   \n",
       "1               31                                      362.576   \n",
       "2  1472,142,131,81           -294.99,-295.501,-275.371,-296.833   \n",
       "3  195,87,88,67,16  -244.695,-245.681,-245.92,-246.171,-244.599   \n",
       "4           191,50                                 70.3523,76.5   \n",
       "\n",
       "                              particle.start.y  \\\n",
       "0                              451.718,450.941   \n",
       "1                                      389.245   \n",
       "2          -469.887,-471.959,-457.852,-470.095   \n",
       "3  -272.993,-273.996,-273.59,-273.428,-275.113   \n",
       "4                            -261.997,-263.596   \n",
       "\n",
       "                         particle.start.z  \n",
       "0                         605.259,605.453  \n",
       "1                                 274.605  \n",
       "2         155.371,151.483,177.401,148.298  \n",
       "3  1282.24,1282.3,1280.86,1281.77,1281.28  \n",
       "4                         859.187,864.935  \n",
       "\n",
       "[5 rows x 30 columns]"
      ]
     },
     "execution_count": 12,
     "metadata": {},
     "output_type": "execute_result"
    }
   ],
   "source": [
    "df.head()"
   ]
  },
  {
   "cell_type": "code",
   "execution_count": 3,
   "metadata": {},
   "outputs": [],
   "source": [
    "highEnergyCut=df[df['mc.nuE']>1.]\n",
    "highEnergyCut.to_csv('HighEnergyCut_NC.csv.xz', index=False, compression='xz')"
   ]
  },
  {
   "cell_type": "code",
   "execution_count": null,
   "metadata": {},
   "outputs": [],
   "source": [
    "\n",
    "highEnergyCut=df[df['mc.mode']>1.]\n",
    "highEnergyCut.to_csv('HighEnergyCut_NC.csv.xz', index=False, compression='xz')"
   ]
  },
  {
   "cell_type": "code",
   "execution_count": 19,
   "metadata": {},
   "outputs": [],
   "source": [
    "for x in list(set(df['mc.mode'])):\n",
    "    FSICut=df.query('`mc.mode`=='+str(x))\n",
    "    FSICut.to_csv('FSI'+str(x)+'.csv.xz', index=False, compression='xz')"
   ]
  },
  {
   "cell_type": "code",
   "execution_count": 6,
   "metadata": {},
   "outputs": [
    {
     "name": "stdout",
     "output_type": "stream",
     "text": [
      "0 1338270\n",
      "1 2035830\n",
      "2 1998390\n",
      "3 55800\n",
      "5 1320\n"
     ]
    }
   ],
   "source": [
    "for x in list(set(df['mc.mode'])):\n",
    "    FSICut=df.query('`mc.mode`=='+str(x))\n",
    "    print(x, FSICut.size)"
   ]
  },
  {
   "cell_type": "code",
   "execution_count": null,
   "metadata": {},
   "outputs": [],
   "source": []
  }
 ],
 "metadata": {
  "kernelspec": {
   "display_name": "Python 3.10.6 64-bit",
   "language": "python",
   "name": "python3"
  },
  "language_info": {
   "codemirror_mode": {
    "name": "ipython",
    "version": 3
   },
   "file_extension": ".py",
   "mimetype": "text/x-python",
   "name": "python",
   "nbconvert_exporter": "python",
   "pygments_lexer": "ipython3",
   "version": "3.10.8"
  },
  "orig_nbformat": 4,
  "vscode": {
   "interpreter": {
    "hash": "b0fa6594d8f4cbf19f97940f81e996739fb7646882a419484c72d19e05852a7e"
   }
  }
 },
 "nbformat": 4,
 "nbformat_minor": 2
}

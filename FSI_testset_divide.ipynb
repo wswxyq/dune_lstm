{
 "cells": [
  {
   "cell_type": "code",
   "execution_count": 3,
   "metadata": {},
   "outputs": [
    {
     "name": "stdout",
     "output_type": "stream",
     "text": [
      "767\n",
      "161\n",
      "15066\n",
      "4430\n",
      "0\n",
      "7111\n",
      "7059\n",
      "296\n",
      "6786\n",
      "41676\n"
     ]
    }
   ],
   "source": [
    "import pandas as pd\n",
    "from utils.fs_cut import get_fsi_bool\n",
    "\n",
    "df = pd.read_csv('data/kEcut20MeV_01e8maxtraceE/2022-08-21_rnne_NC_250_fGScatter_20MeV_KE_01e8_max_trackE_cut_test_with_pred.csv.xz')\n",
    "\n",
    "for i in range(1, 10):\n",
    "    FSICut=df.loc[df['mc.fpdgCode'].apply(get_fsi_bool, args=(i,))]\n",
    "    FSICut.to_csv('data/kEcut20MeV_01e8maxtraceE/testset_with_FSIcut/FSI_'+str(i)+'.csv.xz', index=False, compression='xz')\n",
    "    print(len(FSICut))\n",
    "    total+=len(FSICut)\n"
   ]
  },
  {
   "cell_type": "code",
   "execution_count": 4,
   "metadata": {},
   "outputs": [
    {
     "name": "stdout",
     "output_type": "stream",
     "text": [
      "21252\n"
     ]
    }
   ],
   "source": [
    "print(len(df))"
   ]
  }
 ],
 "metadata": {
  "kernelspec": {
   "display_name": "Python 3.10.8 64-bit",
   "language": "python",
   "name": "python3"
  },
  "language_info": {
   "codemirror_mode": {
    "name": "ipython",
    "version": 3
   },
   "file_extension": ".py",
   "mimetype": "text/x-python",
   "name": "python",
   "nbconvert_exporter": "python",
   "pygments_lexer": "ipython3",
   "version": "3.10.8"
  },
  "orig_nbformat": 4,
  "vscode": {
   "interpreter": {
    "hash": "b0fa6594d8f4cbf19f97940f81e996739fb7646882a419484c72d19e05852a7e"
   }
  }
 },
 "nbformat": 4,
 "nbformat_minor": 2
}

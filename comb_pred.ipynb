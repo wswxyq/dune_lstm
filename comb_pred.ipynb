{
 "cells": [
  {
   "cell_type": "code",
   "execution_count": 1,
   "metadata": {},
   "outputs": [],
   "source": [
    "# combine pkl with csv, generate a new dataset with predictions from LSTM\n",
    "import pandas as pd\n",
    "import numpy as np\n",
    "import pickle\n",
    "import matplotlib.pyplot as plt\n",
    "data = pd.read_csv('data/2022-08-21_rnne_NC_250_fGScatter_20MeV_KE_01e8_max_trackE_cut_test.csv.xz')"
   ]
  },
  {
   "cell_type": "code",
   "execution_count": 2,
   "metadata": {},
   "outputs": [
    {
     "data": {
      "text/html": [
       "<div>\n",
       "<style scoped>\n",
       "    .dataframe tbody tr th:only-of-type {\n",
       "        vertical-align: middle;\n",
       "    }\n",
       "\n",
       "    .dataframe tbody tr th {\n",
       "        vertical-align: top;\n",
       "    }\n",
       "\n",
       "    .dataframe thead th {\n",
       "        text-align: right;\n",
       "    }\n",
       "</style>\n",
       "<table border=\"1\" class=\"dataframe\">\n",
       "  <thead>\n",
       "    <tr style=\"text-align: right;\">\n",
       "      <th></th>\n",
       "      <th>addr.event</th>\n",
       "      <th>addr.run</th>\n",
       "      <th>addr.subRun</th>\n",
       "      <th>anye.hadE</th>\n",
       "      <th>anye.lepE</th>\n",
       "      <th>anye.longestTrackContained</th>\n",
       "      <th>anye.nuE</th>\n",
       "      <th>event.calE</th>\n",
       "      <th>event.charge</th>\n",
       "      <th>event.nHits</th>\n",
       "      <th>...</th>\n",
       "      <th>particle.dir.x</th>\n",
       "      <th>particle.dir.y</th>\n",
       "      <th>particle.dir.z</th>\n",
       "      <th>particle.energy</th>\n",
       "      <th>particle.is_shower</th>\n",
       "      <th>particle.length</th>\n",
       "      <th>particle.nHit</th>\n",
       "      <th>particle.start.x</th>\n",
       "      <th>particle.start.y</th>\n",
       "      <th>particle.start.z</th>\n",
       "    </tr>\n",
       "  </thead>\n",
       "  <tbody>\n",
       "    <tr>\n",
       "      <th>0</th>\n",
       "      <td>99</td>\n",
       "      <td>20000000.0</td>\n",
       "      <td>0</td>\n",
       "      <td>-0.136679</td>\n",
       "      <td>0.192049</td>\n",
       "      <td>1</td>\n",
       "      <td>0.055370</td>\n",
       "      <td>15982000.0</td>\n",
       "      <td>79366.6</td>\n",
       "      <td>224</td>\n",
       "      <td>...</td>\n",
       "      <td>-0.0967852,0.28877,-0.274801</td>\n",
       "      <td>-0.830813,-0.448184,0.0794038</td>\n",
       "      <td>-0.548071,0.846016,0.958217</td>\n",
       "      <td>0,1,1</td>\n",
       "      <td>1,0,0</td>\n",
       "      <td>163.862,28.4202,9.53754</td>\n",
       "      <td>360,141,47</td>\n",
       "      <td>336.961,337.3,336.796</td>\n",
       "      <td>266.794,266.143,266.867</td>\n",
       "      <td>1106.86,1107.66,1107.4</td>\n",
       "    </tr>\n",
       "    <tr>\n",
       "      <th>1</th>\n",
       "      <td>5</td>\n",
       "      <td>20000000.0</td>\n",
       "      <td>0</td>\n",
       "      <td>-0.087330</td>\n",
       "      <td>0.215172</td>\n",
       "      <td>1</td>\n",
       "      <td>0.127841</td>\n",
       "      <td>11597300.0</td>\n",
       "      <td>57592.0</td>\n",
       "      <td>183</td>\n",
       "      <td>...</td>\n",
       "      <td>-0.126556,-0.329956,0.800658</td>\n",
       "      <td>0.264708,0.943707,-0.553893</td>\n",
       "      <td>0.955988,-0.0233775,0.228363</td>\n",
       "      <td>1,1,1</td>\n",
       "      <td>0,0,0</td>\n",
       "      <td>40.0882,17.1144,13.6067</td>\n",
       "      <td>217,74,39</td>\n",
       "      <td>-157.186,-178.165,-161.858</td>\n",
       "      <td>534.979,585.416,545.576</td>\n",
       "      <td>454.069,455.621,492.181</td>\n",
       "    </tr>\n",
       "    <tr>\n",
       "      <th>2</th>\n",
       "      <td>93</td>\n",
       "      <td>20000000.0</td>\n",
       "      <td>0</td>\n",
       "      <td>-0.645356</td>\n",
       "      <td>0.523259</td>\n",
       "      <td>1</td>\n",
       "      <td>-0.122097</td>\n",
       "      <td>45601500.0</td>\n",
       "      <td>226457.0</td>\n",
       "      <td>821</td>\n",
       "      <td>...</td>\n",
       "      <td>0.27275,-0.118174,-0.200137,0.37859,-0.519619,...</td>\n",
       "      <td>-0.230941,0.203086,0.058152,0.230767,-0.633998...</td>\n",
       "      <td>0.933956,0.972004,0.978041,-0.896335,0.57275,-...</td>\n",
       "      <td>1,1,1,1,1,1,0,1,1,1,0,1</td>\n",
       "      <td>0,0,0,0,0,0,1,0,0,0,1,0</td>\n",
       "      <td>180.179,60.1006,33.6844,15.8725,21.8045,10.694...</td>\n",
       "      <td>887,303,206,99,95,91,94,68,41,30,25,36</td>\n",
       "      <td>-200.123,-203.736,-200.366,-191.685,-203.903,-...</td>\n",
       "      <td>128.288,127.822,129.806,149.609,131.111,128.43...</td>\n",
       "      <td>1133.65,1122.94,1134.25,1114.94,1175.32,1132.9...</td>\n",
       "    </tr>\n",
       "    <tr>\n",
       "      <th>3</th>\n",
       "      <td>78</td>\n",
       "      <td>20000000.0</td>\n",
       "      <td>0</td>\n",
       "      <td>-0.578514</td>\n",
       "      <td>0.401140</td>\n",
       "      <td>1</td>\n",
       "      <td>-0.177374</td>\n",
       "      <td>43901700.0</td>\n",
       "      <td>218016.0</td>\n",
       "      <td>791</td>\n",
       "      <td>...</td>\n",
       "      <td>0.356433,0.767103,0.47096,-0.355284,-0.515827,...</td>\n",
       "      <td>0.299392,-0.618777,0.85347,-0.136909,0.493977,...</td>\n",
       "      <td>0.885054,0.169314,-0.223126,0.924678,0.699935,...</td>\n",
       "      <td>1,1,0,1,1,1,1,1</td>\n",
       "      <td>0,0,1,0,0,0,0,0</td>\n",
       "      <td>126.086,103.43,173.651,33.1497,16.9031,25.9381...</td>\n",
       "      <td>679,339,360,186,64,71,77,26</td>\n",
       "      <td>-316.395,-314.701,-279.73,-316.809,-319.536,-3...</td>\n",
       "      <td>83.3303,81.8249,115.174,83.778,85.7755,80.4193...</td>\n",
       "      <td>1103.96,1103.51,1200.6,1102.68,1106.68,1102.88...</td>\n",
       "    </tr>\n",
       "    <tr>\n",
       "      <th>4</th>\n",
       "      <td>42</td>\n",
       "      <td>20000000.0</td>\n",
       "      <td>0</td>\n",
       "      <td>0.057597</td>\n",
       "      <td>0.159493</td>\n",
       "      <td>1</td>\n",
       "      <td>0.217090</td>\n",
       "      <td>54993900.0</td>\n",
       "      <td>273099.0</td>\n",
       "      <td>956</td>\n",
       "      <td>...</td>\n",
       "      <td>0.160711,-0.231041,-0.733035</td>\n",
       "      <td>-0.978808,0.0767519,-0.181711</td>\n",
       "      <td>0.126914,0.969912,0.65547</td>\n",
       "      <td>0,1,0</td>\n",
       "      <td>1,0,1</td>\n",
       "      <td>186.032,10.7939,14.169</td>\n",
       "      <td>2088,61,43</td>\n",
       "      <td>-91.2953,-110.434,-113.597</td>\n",
       "      <td>-318.043,-294.839,-293.18</td>\n",
       "      <td>584.17,687.611,697.884</td>\n",
       "    </tr>\n",
       "  </tbody>\n",
       "</table>\n",
       "<p>5 rows × 32 columns</p>\n",
       "</div>"
      ],
      "text/plain": [
       "   addr.event    addr.run  addr.subRun  anye.hadE  anye.lepE  \\\n",
       "0          99  20000000.0            0  -0.136679   0.192049   \n",
       "1           5  20000000.0            0  -0.087330   0.215172   \n",
       "2          93  20000000.0            0  -0.645356   0.523259   \n",
       "3          78  20000000.0            0  -0.578514   0.401140   \n",
       "4          42  20000000.0            0   0.057597   0.159493   \n",
       "\n",
       "   anye.longestTrackContained  anye.nuE  event.calE  event.charge  \\\n",
       "0                           1  0.055370  15982000.0       79366.6   \n",
       "1                           1  0.127841  11597300.0       57592.0   \n",
       "2                           1 -0.122097  45601500.0      226457.0   \n",
       "3                           1 -0.177374  43901700.0      218016.0   \n",
       "4                           1  0.217090  54993900.0      273099.0   \n",
       "\n",
       "   event.nHits  ...                                     particle.dir.x  \\\n",
       "0          224  ...                       -0.0967852,0.28877,-0.274801   \n",
       "1          183  ...                       -0.126556,-0.329956,0.800658   \n",
       "2          821  ...  0.27275,-0.118174,-0.200137,0.37859,-0.519619,...   \n",
       "3          791  ...  0.356433,0.767103,0.47096,-0.355284,-0.515827,...   \n",
       "4          956  ...                       0.160711,-0.231041,-0.733035   \n",
       "\n",
       "                                      particle.dir.y  \\\n",
       "0                      -0.830813,-0.448184,0.0794038   \n",
       "1                        0.264708,0.943707,-0.553893   \n",
       "2  -0.230941,0.203086,0.058152,0.230767,-0.633998...   \n",
       "3  0.299392,-0.618777,0.85347,-0.136909,0.493977,...   \n",
       "4                      -0.978808,0.0767519,-0.181711   \n",
       "\n",
       "                                      particle.dir.z          particle.energy  \\\n",
       "0                        -0.548071,0.846016,0.958217                    0,1,1   \n",
       "1                       0.955988,-0.0233775,0.228363                    1,1,1   \n",
       "2  0.933956,0.972004,0.978041,-0.896335,0.57275,-...  1,1,1,1,1,1,0,1,1,1,0,1   \n",
       "3  0.885054,0.169314,-0.223126,0.924678,0.699935,...          1,1,0,1,1,1,1,1   \n",
       "4                          0.126914,0.969912,0.65547                    0,1,0   \n",
       "\n",
       "        particle.is_shower                                    particle.length  \\\n",
       "0                    1,0,0                            163.862,28.4202,9.53754   \n",
       "1                    0,0,0                            40.0882,17.1144,13.6067   \n",
       "2  0,0,0,0,0,0,1,0,0,0,1,0  180.179,60.1006,33.6844,15.8725,21.8045,10.694...   \n",
       "3          0,0,1,0,0,0,0,0  126.086,103.43,173.651,33.1497,16.9031,25.9381...   \n",
       "4                    1,0,1                             186.032,10.7939,14.169   \n",
       "\n",
       "                            particle.nHit  \\\n",
       "0                              360,141,47   \n",
       "1                               217,74,39   \n",
       "2  887,303,206,99,95,91,94,68,41,30,25,36   \n",
       "3             679,339,360,186,64,71,77,26   \n",
       "4                              2088,61,43   \n",
       "\n",
       "                                    particle.start.x  \\\n",
       "0                              336.961,337.3,336.796   \n",
       "1                         -157.186,-178.165,-161.858   \n",
       "2  -200.123,-203.736,-200.366,-191.685,-203.903,-...   \n",
       "3  -316.395,-314.701,-279.73,-316.809,-319.536,-3...   \n",
       "4                         -91.2953,-110.434,-113.597   \n",
       "\n",
       "                                    particle.start.y  \\\n",
       "0                            266.794,266.143,266.867   \n",
       "1                            534.979,585.416,545.576   \n",
       "2  128.288,127.822,129.806,149.609,131.111,128.43...   \n",
       "3  83.3303,81.8249,115.174,83.778,85.7755,80.4193...   \n",
       "4                          -318.043,-294.839,-293.18   \n",
       "\n",
       "                                    particle.start.z  \n",
       "0                             1106.86,1107.66,1107.4  \n",
       "1                            454.069,455.621,492.181  \n",
       "2  1133.65,1122.94,1134.25,1114.94,1175.32,1132.9...  \n",
       "3  1103.96,1103.51,1200.6,1102.68,1106.68,1102.88...  \n",
       "4                             584.17,687.611,697.884  \n",
       "\n",
       "[5 rows x 32 columns]"
      ]
     },
     "execution_count": 2,
     "metadata": {},
     "output_type": "execute_result"
    }
   ],
   "source": [
    "data.head()"
   ]
  },
  {
   "cell_type": "code",
   "execution_count": 3,
   "metadata": {},
   "outputs": [
    {
     "data": {
      "text/plain": [
       "0                       2.3955e+07,1.32523e+07,5.07754e+06\n",
       "1                       1.06728e+07,7.0045e+06,7.17576e+06\n",
       "2        4.09547e+07,1.50999e+07,1.8616e+07,5.43899e+06...\n",
       "3        3.35255e+07,1.72717e+07,2.43053e+07,1.22182e+0...\n",
       "4                      1.35137e+08,2.93231e+06,2.10603e+06\n",
       "                               ...                        \n",
       "21247       2.10704e+07,4.55553e+06,3.98222e+06,1.7464e+06\n",
       "21248      1.40396e+08,3.62253e+07,1.08888e+07,2.20312e+06\n",
       "21249                               2.44262e+07,8.6497e+06\n",
       "21250    1.63449e+07,1.80128e+07,6.83668e+06,1.50821e+0...\n",
       "21251                                          1.93641e+07\n",
       "Name: particle.calE, Length: 21252, dtype: object"
      ]
     },
     "execution_count": 3,
     "metadata": {},
     "output_type": "execute_result"
    }
   ],
   "source": [
    "data['particle.calE']"
   ]
  },
  {
   "cell_type": "code",
   "execution_count": 10,
   "metadata": {},
   "outputs": [],
   "source": [
    "filename=\"data/2022-08-21_rnne_NC_250_fGScatter_20MeV_KE_01e8_max_trackE_cut_pred\"\n",
    "with open(filename+\".pkl\", \"rb\") as f:\n",
    "    pred, true = pickle.load(f)"
   ]
  },
  {
   "cell_type": "code",
   "execution_count": 28,
   "metadata": {},
   "outputs": [
    {
     "data": {
      "text/plain": [
       "2.467164847444135e-16"
      ]
     },
     "execution_count": 28,
     "metadata": {},
     "output_type": "execute_result"
    }
   ],
   "source": [
    "# verify that the predictions are corresponding to the correct data\n",
    "np.std(true['total']-data['mc.nuE'])"
   ]
  },
  {
   "cell_type": "code",
   "execution_count": 30,
   "metadata": {},
   "outputs": [
    {
     "data": {
      "text/plain": [
       "21252"
      ]
     },
     "execution_count": 30,
     "metadata": {},
     "output_type": "execute_result"
    }
   ],
   "source": [
    "len(true['total'])"
   ]
  },
  {
   "cell_type": "code",
   "execution_count": 31,
   "metadata": {},
   "outputs": [
    {
     "data": {
      "text/plain": [
       "21252"
      ]
     },
     "execution_count": 31,
     "metadata": {},
     "output_type": "execute_result"
    }
   ],
   "source": [
    "len(data)"
   ]
  },
  {
   "cell_type": "code",
   "execution_count": 32,
   "metadata": {},
   "outputs": [],
   "source": [
    "data.insert(0, 'lstm_EE_pred.total', pred['total'])\n",
    "data.insert(1, 'lstm_EE_pred.primary', pred['primary'])\n",
    "data.insert(2, 'lstm_EE_pred.secondary', pred['secondary'])\n",
    "data.to_csv('data/2022-08-21_rnne_NC_250_fGScatter_20MeV_KE_01e8_max_trackE_cut_test_with_pred.csv.xz', index=False, compression='xz')\n"
   ]
  }
 ],
 "metadata": {
  "kernelspec": {
   "display_name": "Python 3.10.6 64-bit",
   "language": "python",
   "name": "python3"
  },
  "language_info": {
   "codemirror_mode": {
    "name": "ipython",
    "version": 3
   },
   "file_extension": ".py",
   "mimetype": "text/x-python",
   "name": "python",
   "nbconvert_exporter": "python",
   "pygments_lexer": "ipython3",
   "version": "3.10.8"
  },
  "orig_nbformat": 4,
  "vscode": {
   "interpreter": {
    "hash": "b0fa6594d8f4cbf19f97940f81e996739fb7646882a419484c72d19e05852a7e"
   }
  }
 },
 "nbformat": 4,
 "nbformat_minor": 2
}
